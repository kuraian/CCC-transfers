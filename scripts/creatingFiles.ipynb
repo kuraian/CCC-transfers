{
 "cells": [
  {
   "cell_type": "markdown",
   "id": "c7130b53-33ff-440b-b0e9-7b75d1e071f1",
   "metadata": {},
   "source": [
    "### Creating Database Files"
   ]
  },
  {
   "cell_type": "markdown",
   "id": "ff177078-4f41-4212-a260-5d21a1e3b5b5",
   "metadata": {},
   "source": [
    "This code creates a text file containing a json of all the institutions in the assist.org database."
   ]
  },
  {
   "cell_type": "code",
   "execution_count": 10,
   "id": "80ee9908-d773-4f0b-856e-dc554729e742",
   "metadata": {},
   "outputs": [],
   "source": [
    "import requests\n",
    "import json\n",
    "import re\n",
    "\n",
    "api_url = \"https://assist.org/api/institutions\"\n",
    "response = requests.get(api_url).json()\n",
    "\n",
    "with open('./data/institutions.txt', 'w') as f:\n",
    "    for i in response:\n",
    "        entry = {'id': i['id'], 'name': i['names'][0]['name'], 'code': i['code'], 'isCCC': i['isCommunityCollege']}\n",
    "        f.write(json.dumps(entry, indent = 4))\n",
    "    f.close()"
   ]
  },
  {
   "cell_type": "markdown",
   "id": "0ad09266-f5ed-4ab5-a67a-bb8d01885cb3",
   "metadata": {},
   "source": [
    "This code creates a text file containing a json of all the institutions with agreements to De Anza College, as well as one only containing the UCs."
   ]
  },
  {
   "cell_type": "code",
   "execution_count": 33,
   "id": "311c9adb-8acf-4324-8fe6-4927e0f05b68",
   "metadata": {},
   "outputs": [],
   "source": [
    "api_url = \"https://assist.org/api/institutions/113/agreements\"\n",
    "response = requests.get(api_url).json()\n",
    "\n",
    "with open('./data/all_agreements.txt', 'w') as f:\n",
    "    for i in response:\n",
    "        entry = {'id': i['institutionParentId'], 'name': i['institutionName'], 'code': i['code'], 'isCCC': i['isCommunityCollege'], 'years': i['receivingYearIds']}\n",
    "        f.write(json.dumps(entry))\n",
    "        f.write('\\n')\n",
    "    f.close()\n",
    "\n",
    "ucs = []\n",
    "\n",
    "with open('./data/uc_agreements.txt', 'w') as f:\n",
    "    for i in response:\n",
    "        if re.match(\"University of California\", i['institutionName']):\n",
    "            entry = {'id': i['institutionParentId'], 'name': i['institutionName'], 'code': i['code'], 'isCCC': i['isCommunityCollege'], 'years': i['receivingYearIds']}\n",
    "            f.write(json.dumps(entry))\n",
    "            f.write('\\n')\n",
    "            ucs.append(entry)\n",
    "    f.close()\n"
   ]
  },
  {
   "cell_type": "markdown",
   "id": "7412dba2-2230-44e3-9746-b6131da361db",
   "metadata": {},
   "source": [
    "This code creates a text file containing all keys for the agreements between the UC's and De Anza College."
   ]
  },
  {
   "cell_type": "code",
   "execution_count": 40,
   "id": "f3b594da-ebe6-4d20-a680-4f67894e8728",
   "metadata": {},
   "outputs": [
    {
     "name": "stdout",
     "output_type": "stream",
     "text": [
      "{'id': 7, 'name': 'University of California, San Diego', 'code': 'UCSD    ', 'isCCC': False, 'years': [49, 50, 51, 52, 53, 54, 55, 56, 57, 58, 59, 60, 61, 62, 63, 64, 65, 66, 67, 70, 71, 72, 73]}\n",
      "{'id': 46, 'name': 'University of California, Riverside', 'code': 'UCR     ', 'isCCC': False, 'years': [46, 47, 48, 49, 50, 51, 52, 53, 54, 55, 56, 57, 58, 59, 60, 61, 62, 63, 64, 65, 66, 67, 69, 70, 71, 72, 73]}\n",
      "{'id': 79, 'name': 'University of California, Berkeley', 'code': 'UCB     ', 'isCCC': False, 'years': [47, 48, 49, 50, 51, 52, 53, 54, 55, 56, 57, 58, 59, 60, 61, 62, 63, 64, 65, 66, 67, 68, 69, 70, 71, 72, 73]}\n",
      "{'id': 89, 'name': 'University of California, Davis', 'code': 'UCD     ', 'isCCC': False, 'years': [47, 48, 49, 50, 51, 52, 53, 54, 55, 56, 57, 58, 59, 60, 61, 62, 63, 64, 65, 66, 67, 68, 69, 70, 71, 72, 73]}\n",
      "{'id': 117, 'name': 'University of California, Los Angeles', 'code': 'UCLA    ', 'isCCC': False, 'years': [66, 67, 70, 71, 72, 73]}\n",
      "{'id': 120, 'name': 'University of California, Irvine', 'code': 'UCI     ', 'isCCC': False, 'years': [45, 49, 50, 51, 52, 53, 54, 55, 56, 57, 58, 59, 60, 61, 62, 63, 64, 65, 66, 67, 70, 71, 72, 73]}\n",
      "{'id': 128, 'name': 'University of California, Santa Barbara', 'code': 'UCSB    ', 'isCCC': False, 'years': [44, 45, 46, 47, 48, 51, 52, 53, 54, 55, 56, 57, 58, 59, 60, 61, 62, 63, 64, 65, 66, 67, 68, 69, 70, 71, 72, 73]}\n",
      "{'id': 132, 'name': 'University of California, Santa Cruz', 'code': 'UCSC    ', 'isCCC': False, 'years': [48, 50, 51, 52, 53, 54, 55, 56, 57, 58, 59, 60, 61, 62, 63, 64, 65, 66, 67, 68, 69, 70, 71, 72, 73]}\n",
      "{'id': 144, 'name': 'University of California, Merced', 'code': 'UCM     ', 'isCCC': False, 'years': [59, 60, 61, 62, 63, 64, 65, 66, 67, 68, 69, 70, 71, 72, 73]}\n"
     ]
    }
   ],
   "source": [
    "uc_data = []\n",
    "\n",
    "with open('./data/uc_agreements.txt', 'r') as f:\n",
    "    for line in f:\n",
    "        uc_data.append(json.loads(line))\n",
    "    f.close()\n",
    "\n",
    "print(*uc_data, sep='\\n')\n",
    "\n",
    "uc_keys = []\n",
    "\n",
    "for i in ucData:\n",
    "    # home is set to the string 113 because that is De Anza's id\n",
    "    home = \"113\"\n",
    "    destination_id = i['id']\n",
    "    destination_name = i['name']\n",
    "    years = i['years']\n",
    "    year = max(years)\n",
    "    \n",
    "    api_url = f\"https://assist.org/api/agreements?receivingInstitutionId={destination_id}&sendingInstitutionId={home}&academicYearId={year}&categoryCode=major\"\n",
    "    response = requests.get(api_url).json()\n",
    "    \n",
    "    for i in response['reports']:\n",
    "        entry = {'school': destination_name, 'label': i['label'], 'key': i['key']}\n",
    "        uc_keys.append(entry)\n",
    "\n",
    "with open('./data/uc_agreement_keys.txt', 'w') as f:\n",
    "    for entry in uc_keys:  \n",
    "        f.write(json.dumps(entry))\n",
    "        f.write('\\n')\n",
    "    f.close()"
   ]
  },
  {
   "cell_type": "markdown",
   "id": "54b2b4af-91b3-464e-b3e7-7de08beed4f5",
   "metadata": {},
   "source": [
    "This code downloads each pdf file for each agreement key provided."
   ]
  },
  {
   "cell_type": "code",
   "execution_count": 28,
   "id": "7ae89e72-8fd3-4e34-8c6a-0cc85db3a9c2",
   "metadata": {},
   "outputs": [],
   "source": [
    "for i, d in dfKeys.iterrows():\n",
    "    key = d['key']\n",
    "    api_url = f\"https://assist.org/api/artifacts/{key}\"\n",
    "    response = requests.get(api_url)\n",
    "    with open(f'./pdfs/{key}.pdf', 'wb') as f:\n",
    "        f.write(response.content)\n",
    "        f.close()"
   ]
  }
 ],
 "metadata": {
  "kernelspec": {
   "display_name": "Python 3 (ipykernel)",
   "language": "python",
   "name": "python3"
  },
  "language_info": {
   "codemirror_mode": {
    "name": "ipython",
    "version": 3
   },
   "file_extension": ".py",
   "mimetype": "text/x-python",
   "name": "python",
   "nbconvert_exporter": "python",
   "pygments_lexer": "ipython3",
   "version": "3.11.1"
  }
 },
 "nbformat": 4,
 "nbformat_minor": 5
}

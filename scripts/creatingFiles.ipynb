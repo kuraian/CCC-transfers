{
 "cells": [
  {
   "cell_type": "markdown",
   "id": "c7130b53-33ff-440b-b0e9-7b75d1e071f1",
   "metadata": {},
   "source": [
    "### Creating Database Files"
   ]
  },
  {
   "cell_type": "markdown",
   "id": "ff177078-4f41-4212-a260-5d21a1e3b5b5",
   "metadata": {},
   "source": [
    "This code creates a text file containing a json of all the institutions in the assist.org database."
   ]
  },
  {
   "cell_type": "code",
   "execution_count": null,
   "id": "80ee9908-d773-4f0b-856e-dc554729e742",
   "metadata": {},
   "outputs": [],
   "source": [
    "import pandas as pd\n",
    "import requests\n",
    "import json\n",
    "\n",
    "api_url = \"https://assist.org/api/institutions\"\n",
    "response = requests.get(api_url).json()\n",
    "\n",
    "dfAll = pd.DataFrame(columns=['id', 'name', 'code', 'isCCC'])\n",
    "\n",
    "for i in response:\n",
    "    entry = {'id': i['id'], 'name': i['names'][0]['name'], 'code': i['code'], 'isCCC': i['isCommunityCollege']}\n",
    "    dfAll = pd.concat([dfAll, pd.DataFrame([entry])], ignore_index = True)\n",
    "\n",
    "dfAll_json = dfAll.to_json(orient='records')\n",
    "\n",
    "with open('institutions.txt', 'w') as f:\n",
    "    f.write(dfAll_json)\n",
    "    f.close()"
   ]
  },
  {
   "cell_type": "markdown",
   "id": "0ad09266-f5ed-4ab5-a67a-bb8d01885cb3",
   "metadata": {},
   "source": [
    "This code creates a text file containing a json of all the institutions with agreements to De Anza College, as well as one only containing the UCs."
   ]
  },
  {
   "cell_type": "code",
   "execution_count": 17,
   "id": "311c9adb-8acf-4324-8fe6-4927e0f05b68",
   "metadata": {},
   "outputs": [],
   "source": [
    "api_url = \"https://assist.org/api/institutions/113/agreements\"\n",
    "response = requests.get(api_url).json()\n",
    "\n",
    "dfAgree = pd.DataFrame(columns=['id', 'name', 'code', 'isCCC'])\n",
    "\n",
    "for i in response:\n",
    "    entry = {'id': i['institutionParentId'], 'name': i['institutionName'], 'code': i['code'], 'isCCC': i['isCommunityCollege'], 'years': i['receivingYearIds']}\n",
    "    dfAgree = pd.concat([dfAgree, pd.DataFrame([entry])], ignore_index = True)\n",
    "\n",
    "dfAgree_json = dfAgree.to_json(orient='records')\n",
    "\n",
    "with open('all_agreements.txt', 'w') as f:\n",
    "    f.write(dfAgree_json)\n",
    "    f.close()\n",
    "\n",
    "uc_json = dfAgree[dfAgree.name.str.contains(\"University of California\")].to_json(orient='records')\n",
    "\n",
    "with open('uc_agreements.txt', 'w') as f:\n",
    "    f.write(uc_json)\n",
    "    f.close()\n"
   ]
  },
  {
   "cell_type": "markdown",
   "id": "7412dba2-2230-44e3-9746-b6131da361db",
   "metadata": {},
   "source": [
    "This code creates a text file containing all keys for the agreements between the UC's and De Anza College."
   ]
  },
  {
   "cell_type": "code",
   "execution_count": 24,
   "id": "f3b594da-ebe6-4d20-a680-4f67894e8728",
   "metadata": {},
   "outputs": [],
   "source": [
    "dfUC = dfAgree[dfAgree.name.str.contains(\"University of California\")]\n",
    "dfKeys = pd.DataFrame(columns=['school', 'label', 'key'])\n",
    "\n",
    "for i, d in dfUC.iterrows():\n",
    "    home = \"113\"\n",
    "    destination_id = d['id']\n",
    "    destination_name = d['name']\n",
    "    years = d['years']\n",
    "    year = max(years)\n",
    "    \n",
    "    api_url = f\"https://assist.org/api/agreements?receivingInstitutionId={destination_id}&sendingInstitutionId={home}&academicYearId={year}&categoryCode=major\"\n",
    "    response = requests.get(api_url).json()\n",
    "    \n",
    "    for i in response['reports']:\n",
    "        entry = {'school': destination_name, 'label': i['label'], 'key': i['key']}\n",
    "        dfKeys = pd.concat([dfKeys, pd.DataFrame([entry])], ignore_index = True)\n",
    "\n",
    "keys_json = dfKeys.to_json(orient='records')\n",
    "\n",
    "with open('uc_agreement_keys.txt', 'w') as f:\n",
    "    f.write(keys_json)\n",
    "    f.close()"
   ]
  },
  {
   "cell_type": "markdown",
   "id": "54b2b4af-91b3-464e-b3e7-7de08beed4f5",
   "metadata": {},
   "source": [
    "This code downloads each pdf file for each agreement key provided."
   ]
  },
  {
   "cell_type": "code",
   "execution_count": 28,
   "id": "7ae89e72-8fd3-4e34-8c6a-0cc85db3a9c2",
   "metadata": {},
   "outputs": [],
   "source": [
    "for i, d in dfKeys.iterrows():\n",
    "    key = d['key']\n",
    "    api_url = f\"https://assist.org/api/artifacts/{key}\"\n",
    "    response = requests.get(api_url)\n",
    "    with open(f'./pdfs/{key}.pdf', 'wb') as f:\n",
    "        f.write(response.content)\n",
    "        f.close()"
   ]
  }
 ],
 "metadata": {
  "kernelspec": {
   "display_name": "Python 3 (ipykernel)",
   "language": "python",
   "name": "python3"
  },
  "language_info": {
   "codemirror_mode": {
    "name": "ipython",
    "version": 3
   },
   "file_extension": ".py",
   "mimetype": "text/x-python",
   "name": "python",
   "nbconvert_exporter": "python",
   "pygments_lexer": "ipython3",
   "version": "3.11.4"
  }
 },
 "nbformat": 4,
 "nbformat_minor": 5
}

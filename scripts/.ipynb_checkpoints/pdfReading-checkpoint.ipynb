{
 "cells": [
  {
   "cell_type": "markdown",
   "id": "5bb14b43-a28f-42b3-b015-39eac8575033",
   "metadata": {},
   "source": [
    "### Reading PDF Files is Painful"
   ]
  },
  {
   "cell_type": "code",
   "execution_count": 8,
   "id": "53a70925-54f8-4939-9883-0ed4804ad174",
   "metadata": {},
   "outputs": [
    {
     "name": "stdout",
     "output_type": "stream",
     "text": [
      "['CHEM 20A', 'And', 'CHEM 20B', 'And', 'CHEM 20L', 'And', 'CHEM 30AL', '←', 'CHEM 1A', 'And ', 'CHEM 1B', 'And ', 'CHEM 1C', 'CHEM 30A', 'And', 'CHEM 30B', '←', 'CHEM 12A', 'And ', 'CHEM 12B', 'MATH 31A', '←', 'MATH 1A', 'MATH 31B', '←', 'MATH 1B', 'And ', 'MATH 1C', 'Or ', 'MATH 1B', 'And ', 'MATH 1CH', 'Or ', 'MATH 1BH', 'And ', 'MATH 1C', 'Or ', 'MATH 1BH', 'And ', 'MATH 1CH', 'MATH 32A', '←', 'MATH 1C', 'MATH 32B', '←', 'MATH 1D', 'MATH 33A', '←', 'MATH 2B', 'MATH 33B', '←', 'MATH 2A', 'PHYSICS 1A', 'And', 'PHYSICS 1B', 'And', 'PHYSICS 1C', 'And', 'PHYSICS 4AL', '←', 'PHYS 4A', 'And ', 'PHYS 4B', 'And ', 'PHYS 4C', 'CHEM 20A', 'And', 'CHEM 20B', 'And', 'CHEM 20L', 'And', 'CHEM 30AL', '←', 'CHEM 1A', 'And ', 'CHEM 1B', 'And ', 'CHEM 1C', 'CHEM 30A', 'And', 'CHEM 30B', '←', 'CHEM 12A', 'And ', 'CHEM 12B', 'And', 'MATH 31A', '←', 'MATH 1A', 'MATH 31B', '←', 'MATH 1B', 'And ', 'MATH 1C', 'Or ', 'MATH 1B', 'And ', 'MATH 1CH', 'Or ', 'MATH 1BH', 'And ', 'MATH 1C', 'Or ', 'MATH 1BH', 'And ', 'MATH 1CH', 'MATH 32A', '←', 'MATH 1C', 'MATH 32B', '←', 'MATH 1D', 'MATH 33A', '←', 'MATH 2B', 'MATH 33B', '←', 'MATH 2A', 'PHYSICS 1A', 'And', 'PHYSICS 1B', 'And', 'PHYSICS 1C', 'And', 'PHYSICS 4AL', '←', 'PHYS 4A', 'And ', 'PHYS 4B', 'And ', 'PHYS 4C', '←', 'ENGCOMP 3', '←', 'EWRT 1A', 'Or ', 'EWRT 1AH', '←', 'COMM 9', 'Or ', 'EWRT 1B', 'Or ', 'EWRT 1BH', 'Or ', 'EWRT 1C', 'Or ', 'EWRT 2', 'Or ', 'PHIL 3', 'And', 'And', '←', 'CIS 27', 'Or ', 'CIS 29', '←', 'CIS 22A', 'Or ', 'CIS 22BH', 'Or ', 'CIS 27', 'Or ', 'CIS 22B', 'Or ', 'CIS 29', '←', '←', 'ENGR 37', 'LIFESCI 7A', '←', 'BIOL 6B', 'LIFESCI 7C', '←', 'BIOL 6A', 'Or', 'And']\n"
     ]
    }
   ],
   "source": [
    "import pandas as pd\n",
    "import re\n",
    "from pypdf import PdfReader \n",
    "\n",
    "reader = PdfReader(\"./pdfs/26088890.pdf\")\n",
    "\n",
    "parts = []\n",
    "conjunctions = ['←', 'And', 'Or']\n",
    "\n",
    "def visitor_body(text, cm, tm, font_dict, font_size):\n",
    "    if text and text != '\\n':\n",
    "        text = text.replace('\\u200b', '')\n",
    "        stripped = text.strip()      \n",
    "        # if (font_dict['/BaseFont'] == '/SegoeUIBold' and re.match('^\\w+\\s\\d+\\w*$', text)) or stripped in conjunctions:\n",
    "        #     parts.append(text)\n",
    "        if (font_dict['/BaseFont'] == '/SegoeUIBold') or stripped in conjunctions:\n",
    "            parts.append(text)\n",
    "\n",
    "for page in reader.pages:\n",
    "    page.extract_text(visitor_text=visitor_body)\n",
    "\n",
    "print(parts)\n",
    "\n",
    "home = []\n",
    "away = []\n",
    "temp = []\n",
    "\n",
    "\"\"\"\n",
    "if class append to temp\n",
    "if and keep state\n",
    "if two classes in a row new entry\n",
    "if arrow switch state\n",
    "\"\"\"\n",
    "        "
   ]
  }
 ],
 "metadata": {
  "kernelspec": {
   "display_name": "Python 3 (ipykernel)",
   "language": "python",
   "name": "python3"
  },
  "language_info": {
   "codemirror_mode": {
    "name": "ipython",
    "version": 3
   },
   "file_extension": ".py",
   "mimetype": "text/x-python",
   "name": "python",
   "nbconvert_exporter": "python",
   "pygments_lexer": "ipython3",
   "version": "3.11.4"
  }
 },
 "nbformat": 4,
 "nbformat_minor": 5
}

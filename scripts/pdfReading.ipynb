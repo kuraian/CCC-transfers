{
 "cells": [
  {
   "cell_type": "markdown",
   "id": "5bb14b43-a28f-42b3-b015-39eac8575033",
   "metadata": {},
   "source": [
    "### Reading PDF Files is Painful"
   ]
  },
  {
   "cell_type": "code",
   "execution_count": 32,
   "id": "53a70925-54f8-4939-9883-0ed4804ad174",
   "metadata": {},
   "outputs": [
    {
     "name": "stdout",
     "output_type": "stream",
     "text": [
      "[['CHEM 20A', 0], ['- Chemical Structure (4.00)', 1], ['And', 2], ['CHEM 20B', 0], ['- Chemical Energetics and Change (4.00)', 1], ['And', 2], ['CHEM 20L', 0], ['- General Chemistry Laboratory (3.00)', 1], ['And', 2], ['CHEM 30AL', 0], ['- General Chemistry Laboratory II (4.00)', 1], ['←', 2], ['CHEM 1A', 0], ['- General Chemistry (5.00)', 1], ['And', 2], ['CHEM 1B', 0], ['- General Chemistry (5.00)', 1], ['And', 2], ['CHEM 1C', 0], ['- General Chemistry and Qualitative Analysis (5.00)', 1], ['CHEM 30A', 0], ['- Organic Chemistry I: Structure and Reactivity (4.00)', 1], ['And', 2], ['CHEM 30B', 0], ['Spectroscopy (4.00)', 1], ['←', 2], ['CHEM 12A', 0], ['- Organic Chemistry (5.00)', 1], ['And', 2], ['CHEM 12B', 0], ['- Organic Chemistry (5.00)', 1], ['MATH 31A', 0], ['- Differential and Integral Calculus (4.00)', 1], ['←', 2], ['MATH 1A', 0], ['- Calculus (5.00)', 1], ['MATH 31B', 0], ['- Integration and Infinite Series (4.00)', 1], ['←', 2], ['MATH 1B', 0], ['- Calculus (5.00)', 1], ['And', 2], ['MATH 1C', 0], ['- Calculus (5.00)', 1], ['Or', 2], ['MATH 1B', 0], ['- Calculus (5.00)', 1], ['And', 2], ['MATH 1CH', 0], ['- Calculus - HONORS (5.00)', 1], ['Or', 2], ['MATH 1BH', 0], ['- Calculus - HONORS (5.00)', 1], ['And', 2], ['MATH 1C', 0], ['- Calculus (5.00)', 1], ['Or', 2], ['MATH 1BH', 0], ['- Calculus - HONORS (5.00)', 1], ['And', 2], ['MATH 1CH', 0], ['- Calculus - HONORS (5.00)', 1], ['MATH 32A', 0], ['- Calculus of Several Variables (4.00)', 1], ['←', 2], ['MATH 1C', 0], ['- Calculus (5.00)', 1], ['MATH 32B', 0], ['- Calculus of Several Variables (4.00)', 1], ['←', 2], ['MATH 1D', 0], ['- Calculus (5.00)', 1], ['MATH 33A', 0], ['- Linear Algebra and Applications (4.00)', 1], ['←', 2], ['MATH 2B', 0], ['- Linear Algebra (5.00)', 1], ['MATH 33B', 0], ['- Differential Equations (4.00)', 1], ['←', 2], ['MATH 2A', 0], ['- Differential Equations (5.00)', 1], ['PHYSICS 1A', 0], ['And', 2], ['PHYSICS 1B', 0], ['Waves, Electric and Magnetic Fields (5.00)', 1], ['And', 2], ['PHYSICS 1C', 0], ['Electrodynamics, Optics, and Special Relativity (5.00)', 1], ['And', 2], ['PHYSICS 4AL', 0], ['Mechanics (2.00)', 1], ['←', 2], ['PHYS 4A', 0], ['- Physics for Scientists and Engineers: Mechanics (6.00)', 1], ['And', 2], ['PHYS 4B', 0], ['Magnetism (6.00)', 1], ['And', 2], ['PHYS 4C', 0], ['Optics and Thermodynamics (6.00)', 1], ['CHEM 20A', 0], ['- Chemical Structure (4.00)', 1], ['And', 2], ['CHEM 20B', 0], ['- Chemical Energetics and Change (4.00)', 1], ['And', 2], ['CHEM 20L', 0], ['- General Chemistry Laboratory (3.00)', 1], ['And', 2], ['CHEM 30AL', 0], ['- General Chemistry Laboratory II (4.00)', 1], ['←', 2], ['CHEM 1A', 0], ['- General Chemistry (5.00)', 1], ['And', 2], ['CHEM 1B', 0], ['- General Chemistry (5.00)', 1], ['And', 2], ['CHEM 1C', 0], ['- General Chemistry and Qualitative Analysis (5.00)', 1], ['CHEM 30A', 0], ['- Organic Chemistry I: Structure and Reactivity (4.00)', 1], ['And', 2], ['CHEM 30B', 0], ['Spectroscopy (4.00)', 1], ['←', 2], ['CHEM 12A', 0], ['- Organic Chemistry (5.00)', 1], ['And', 2], ['CHEM 12B', 0], ['- Organic Chemistry (5.00)', 1], ['And', 2], ['MATH 31A', 0], ['- Differential and Integral Calculus (4.00)', 1], ['←', 2], ['MATH 1A', 0], ['- Calculus (5.00)', 1], ['MATH 31B', 0], ['- Integration and Infinite Series (4.00)', 1], ['←', 2], ['MATH 1B', 0], ['- Calculus (5.00)', 1], ['And', 2], ['MATH 1C', 0], ['- Calculus (5.00)', 1], ['Or', 2], ['MATH 1B', 0], ['- Calculus (5.00)', 1], ['And', 2], ['MATH 1CH', 0], ['- Calculus - HONORS (5.00)', 1], ['Or', 2], ['MATH 1BH', 0], ['- Calculus - HONORS (5.00)', 1], ['And', 2], ['MATH 1C', 0], ['- Calculus (5.00)', 1], ['Or', 2], ['MATH 1BH', 0], ['- Calculus - HONORS (5.00)', 1], ['And', 2], ['MATH 1CH', 0], ['- Calculus - HONORS (5.00)', 1], ['MATH 32A', 0], ['- Calculus of Several Variables (4.00)', 1], ['←', 2], ['MATH 1C', 0], ['- Calculus (5.00)', 1], ['MATH 32B', 0], ['- Calculus of Several Variables (4.00)', 1], ['←', 2], ['MATH 1D', 0], ['- Calculus (5.00)', 1], ['MATH 33A', 0], ['- Linear Algebra and Applications (4.00)', 1], ['←', 2], ['MATH 2B', 0], ['- Linear Algebra (5.00)', 1], ['MATH 33B', 0], ['- Differential Equations (4.00)', 1], ['←', 2], ['MATH 2A', 0], ['- Differential Equations (5.00)', 1], ['PHYSICS 1A', 0], ['And', 2], ['PHYSICS 1B', 0], ['Waves, Electric and Magnetic Fields (5.00)', 1], ['And', 2], ['PHYSICS 1C', 0], ['Electrodynamics, Optics, and Special Relativity (5.00)', 1], ['And', 2], ['PHYSICS 4AL', 0], ['Mechanics (2.00)', 1], ['←', 2], ['PHYS 4A', 0], ['- Physics for Scientists and Engineers: Mechanics (6.00)', 1], ['And', 2], ['PHYS 4B', 0], ['Magnetism (6.00)', 1], ['And', 2], ['PHYS 4C', 0], ['Optics and Thermodynamics (6.00)', 1], ['←', 2], ['ENGCOMP 3', 0], ['- English Composition, Rhetoric, and Language (5.00)', 1], ['←', 2], ['EWRT 1A', 0], ['- Composition and Reading (5.00)', 1], ['Or', 2], ['EWRT 1AH', 0], ['- Composition and Reading - HONORS (5.00)', 1], ['←', 2], ['COMM 9', 0], ['Communication (5.00)', 1], ['Or', 2], ['EWRT 1B', 0], ['- Reading, Writing and Research (5.00)', 1], ['Or', 2], ['EWRT 1BH', 0], ['- Reading, Writing and Research - HONORS (5.00)', 1], ['Or', 2], ['EWRT 1C', 0], ['- Literature and Composition (5.00)', 1], ['Or', 2], ['EWRT 2', 0], ['- Critical Reading, Writing and Thinking (5.00)', 1], ['Or', 2], ['PHIL 3', 0], ['- Critical Thinking and Writing (5.00)', 1], ['And', 2], ['And', 2], ['←', 2], ['CIS 27', 0], ['- Programming in C++ for C/Java Programmers (4.50)', 1], ['Or', 2], ['CIS 29', 0], ['- Advanced C++ Programming (4.50)', 1], ['COM SCI 31', 0], ['- Introduction to Computer Science I (4.00)', 1], ['←', 2], ['CIS 22A', 0], ['- Beginning Programming Methodologies in C++ (4.50)', 1], ['Or', 2], ['CIS 22BH', 0], ['HONORS (4.50)', 1], ['Or', 2], ['CIS 27', 0], ['- Programming in C++ for C/Java Programmers (4.50)', 1], ['Or', 2], ['CIS 22B', 0], ['- Intermediate Programming Methodologies in C++ (4.50)', 1], ['Or', 2], ['CIS 29', 0], ['- Advanced C++ Programming (4.50)', 1], ['MATLAB (4.00)', 1], ['←', 2], ['EC ENGR 100', 0], ['- Electrical and Electronic Circuits (4.00)', 1], ['←', 2], ['ENGR 37', 0], ['- Introduction to Circuit Analysis (5.00)', 1], ['LIFESCI 7A', 0], ['- Cell and Molecular Biology (5.00)', 1], ['←', 2], ['BIOL 6B', 0], ['- Cell and Molecular Biology (6.00)', 1], ['LIFESCI 7C', 0], ['- Physiology and Human Biology (5.00)', 1], ['←', 2], ['BIOL 6A', 0], ['- Form and Function in the Biological World (6.00)', 1], ['Or', 2], ['And', 2]]\n"
     ]
    },
    {
     "data": {
      "text/plain": [
       "'\\nif class append to temp\\nif and keep state\\nif two classes in a row new entry\\nif arrow switch state\\n'"
      ]
     },
     "execution_count": 32,
     "metadata": {},
     "output_type": "execute_result"
    }
   ],
   "source": [
    "import pandas as pd\n",
    "import re\n",
    "from pypdf import PdfReader \n",
    "\n",
    "reader = PdfReader(\"./pdfs/26088890.pdf\")\n",
    "\n",
    "parts = []\n",
    "conjunctions = ['←', 'And', 'Or']\n",
    "\n",
    "def visitor_body(text, cm, tm, font_dict, font_size):\n",
    "    if text and text != '\\n':\n",
    "        text = text.replace('\\u200b', '').strip()\n",
    "        if font_dict['/BaseFont'] == '/SegoeUIBold' and re.match('^(\\S+\\s)+\\d+\\w*$', text):\n",
    "            parts.append([text, 0])\n",
    "        elif font_dict['/BaseFont'] == '/SegoeUIRegular' and re.match('^\\-\\s(\\S+\\s)+$', text):\n",
    "            parts.append([text, 1])\n",
    "        elif font_dict['/BaseFont'] == '/SegoeUIRegular' and re.match('^(\\S+\\s)+\\(\\d+\\.\\d+\\)$', text):\n",
    "            parts.append([text, 1])\n",
    "        elif text in conjunctions:\n",
    "            parts.append([text, 2])\n",
    "\n",
    "def tester_body(text, cm, tm, font_dict, font_size):\n",
    "    if text and text != '\\n':\n",
    "        if font_dict['/BaseFont'] == '/SegoeUIRegular':\n",
    "            print(text)\n",
    "\n",
    "for page in reader.pages:\n",
    "    page.extract_text(visitor_text=visitor_body)\n",
    "    \n",
    "print(parts)\n",
    "\n",
    "\n",
    "newparts = []\n",
    "temp = []\n",
    "state = 0\n",
    "\n",
    "for part in parts:\n",
    "    if part in conjunctions:\n",
    "        state = 0\n",
    "        temp.append(part)\n",
    "    else:\n",
    "        if state == 1:\n",
    "            newparts.append(temp[:])\n",
    "            temp.clear()\n",
    "        temp.append(part)\n",
    "        state = 1\n",
    "\n",
    "#print(newparts)"
   ]
  }
 ],
 "metadata": {
  "kernelspec": {
   "display_name": "Python 3 (ipykernel)",
   "language": "python",
   "name": "python3"
  },
  "language_info": {
   "codemirror_mode": {
    "name": "ipython",
    "version": 3
   },
   "file_extension": ".py",
   "mimetype": "text/x-python",
   "name": "python",
   "nbconvert_exporter": "python",
   "pygments_lexer": "ipython3",
   "version": "3.11.4"
  }
 },
 "nbformat": 4,
 "nbformat_minor": 5
}

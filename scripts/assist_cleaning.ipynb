{
 "cells": [
  {
   "cell_type": "markdown",
   "id": "1e1e7fc4-9855-4ff0-8e54-5b9e06d77ae6",
   "metadata": {},
   "source": [
    "# Assisting With Assist.org\n",
    "Students who attend California Community Colleges often do so with the goal of transferring to either the University of California or California State University systems. In order to do so, it is almost a requirement that they comb through [Assist.org](https://assist.org/) for course equivalencies and plan their schedules around them. At the time of writing (July 31, 2023) [Assist.org](https://assist.org/) only provides a unidirectional search, in which users provide a year, home institution, and away institution. In return, they are given a large list of agreements, ordered by major, in the form of downloadable PDF files. Assist.org is sufficient enough in providing for short inquiries, but this approach quickly becomes cumbersome once a user has to consider the multiple schools they may apply to, different majors, and possibly multiple community colleges they have attended. Personally, I do not have fond memories of looking through tens of files and manually typing courses into my Google Sheet I used to plan my courses for transferring. \n",
    "\n",
    "I recalled these frustrations as I recently assisted (haha) my younger sister plan her community college courses and devised a solution: a web UI to help make sense of transferring, and a database that would store articulation agreements in JSON instead of archaic and cumbersome PDF files. This solution is scoped to assist De Anza College students in picking courses for their majors, but it is capable of scaling to include all CCC's. \n",
    "\n",
    "## Problems and Approaches\n",
    "### 1. Assist.org's API\n",
    "The first problem was: how do I aggregate, clean, and store the articulation data? It was quite difficult to find any information on Assist.org's API. Luckily, I was able to find and expand upon another De Anza transfer student's approach to this problem, where they had documented how to use it ([ccc_transfers by jacobtbigham](https://github.com/jacobtbigham/ccc_transfers)). I made requests to obtain a JSON containing all the ID's for the articulations I wanted, and then requested every PDF file for each ID. \n",
    "\n",
    "### 2. Cleaning the Data\n",
    "Next, was the question of cleaning the data. My approach used Python3 and the library [pypdf](https://pypdf.readthedocs.io/en/stable/index.html) with some regex. Working with PDF files is a large pain. My solution to transforming THIS: () into THIS:() involved reading in lines from the PDF file, splitting the document into two halves, checking fonts and font sizes, and using regex to determine what was a course and what was not. \n",
    "\n",
    "### 3. Storing the Data\n",
    "I decided to store all the data locally in text files as JSON, formatted as follows:  \n",
    "  \n",
    "{\"away\": [\"MGT 4 - Financial Accounting (4.00) Same-As: ECON 4\"], \"home\": [[\"ACCT 1A - Financial Accounting I (5.00)\"], [\"ACCT 1AH - Financial Accounting I - HONORS (5.00)\"]]}  \n",
    "  \n",
    "For my purposes it is sufficient to leave the data as is, but a more comprehensive approach and database would want the course title, course description, and units separated. This was also left as is because in the articulation agreements, one can find requirements that are not directly courses such as:  \n",
    "  \n",
    "{\"away\": [\"One additional course in English composition\"], \"home\": [[\"COMM 9 - Argumentation: Analysis of Oral and Written Communication (5.00)\"], [\"EWRT 1B - Reading, Writing and Research (5.00)\"], [\"EWRT 1BH - Reading, Writing and Research - HONORS (5.00)\"], [\"EWRT 1C - Literature and Composition (5.00)\"], [\"EWRT 2 - Critical Reading, Writing and Thinking (5.00)\"], [\"PHIL 3 - Critical Thinking and Writing (5.00)\"]]}  \n",
    "\n",
    "### Code\n",
    "The code can be found in creatingFiles.ipynb and pdfReading.ipynb. To replicate, \n",
    "## UI/UX Design\n",
    "### 1. \n"
   ]
  }
 ],
 "metadata": {
  "kernelspec": {
   "display_name": "Python 3 (ipykernel)",
   "language": "python",
   "name": "python3"
  },
  "language_info": {
   "codemirror_mode": {
    "name": "ipython",
    "version": 3
   },
   "file_extension": ".py",
   "mimetype": "text/x-python",
   "name": "python",
   "nbconvert_exporter": "python",
   "pygments_lexer": "ipython3",
   "version": "3.11.1"
  }
 },
 "nbformat": 4,
 "nbformat_minor": 5
}

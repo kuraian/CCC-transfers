{
 "cells": [
  {
   "cell_type": "code",
   "execution_count": 3,
   "id": "dc7fb9df-325a-41d6-bae4-e68d8f031a6f",
   "metadata": {},
   "outputs": [
    {
     "name": "stdout",
     "output_type": "stream",
     "text": [
      "     id                                     name      code  isCCC\n",
      "1     7      University of California, San Diego  UCSD      False\n",
      "12   46      University of California, Riverside  UCR       False\n",
      "17   79       University of California, Berkeley  UCB       False\n",
      "21   89          University of California, Davis  UCD       False\n",
      "25  117    University of California, Los Angeles  UCLA      False\n",
      "26  120         University of California, Irvine  UCI       False\n",
      "27  128  University of California, Santa Barbara  UCSB      False\n",
      "29  132     University of California, Santa Cruz  UCSC      False\n",
      "32  144         University of California, Merced  UCM       False\n",
      "{'reports': [{'label': 'Anthropology, Lower Division B.A.', 'key': 25574169, 'ownerInstitutionId': 0}, {'label': 'Economics, Lower Division B.A.', 'key': 25574176, 'ownerInstitutionId': 0}, {'label': 'Mathematics/Applied Mathematics, Lower Division B.A.', 'key': 25574182, 'ownerInstitutionId': 0}, {'label': 'Physics, Lower Division B.A.', 'key': 25574186, 'ownerInstitutionId': 0}, {'label': 'Sociology, Lower Division B.A.', 'key': 25574191, 'ownerInstitutionId': 0}, {'label': 'English, Lower Division B.A.', 'key': 25574197, 'ownerInstitutionId': 0}, {'label': 'History, Lower Division B.A.', 'key': 25574198, 'ownerInstitutionId': 0}, {'label': 'Philosophy, Lower Division B.A.', 'key': 25574201, 'ownerInstitutionId': 0}, {'label': 'Political Science, Lower Division B.A.', 'key': 25574209, 'ownerInstitutionId': 0}, {'label': 'Psychology, Lower Division B.A.', 'key': 25574213, 'ownerInstitutionId': 0}, {'label': 'Bioengineering, Lower Division B.S.', 'key': 25574219, 'ownerInstitutionId': 0}, {'label': 'Civil Engineering, Lower Division B.S.', 'key': 25574223, 'ownerInstitutionId': 0}, {'label': 'Electrical Engineering & Computer Sciences, Lower Division B.S.', 'key': 25574231, 'ownerInstitutionId': 0}, {'label': 'Energy Engineering, Lower Division B.S.', 'key': 25574233, 'ownerInstitutionId': 0}, {'label': 'Engineering Mathematics and Statistics, Lower Division B.S.', 'key': 25574239, 'ownerInstitutionId': 0}, {'label': 'Engineering Physics, Lower Division B.S.', 'key': 25574243, 'ownerInstitutionId': 0}, {'label': 'Environmental Engineering Science, Lower Division B.S.', 'key': 25574249, 'ownerInstitutionId': 0}, {'label': 'Industrial Engineering & Operations Research, Lower Division B.S.', 'key': 25574253, 'ownerInstitutionId': 0}, {'label': 'Materials Science and Engineering, Lower Division B.S.', 'key': 25574260, 'ownerInstitutionId': 0}, {'label': 'Mechanical Engineering, Lower Division B.S.', 'key': 25574262, 'ownerInstitutionId': 0}, {'label': 'Nuclear Engineering, Lower Division B.S.', 'key': 25574268, 'ownerInstitutionId': 0}, {'label': 'Conservation and Resource Studies, Lower Division B.S.', 'key': 25574275, 'ownerInstitutionId': 0}, {'label': 'Environmental Economics and Policy, Lower Division B.A., B.S.', 'key': 25574276, 'ownerInstitutionId': 0}, {'label': 'Genetics and Plant Biology, Lower Division B.S.', 'key': 25574284, 'ownerInstitutionId': 0}, {'label': 'Environmental Sciences, Lower Division B.S.', 'key': 25574285, 'ownerInstitutionId': 0}, {'label': 'Microbial Biology, Lower Division B.S.', 'key': 25574291, 'ownerInstitutionId': 0}, {'label': 'Molecular Environmental Biology, Lower Division B.S.', 'key': 25574299, 'ownerInstitutionId': 0}, {'label': 'Nutritional Science, Lower Division B.S.', 'key': 25574303, 'ownerInstitutionId': 0}, {'label': 'Society and Environment, Lower Division B.S', 'key': 25574306, 'ownerInstitutionId': 0}, {'label': 'Chemistry, Lower Division B.A. and B.S.', 'key': 25574315, 'ownerInstitutionId': 0}, {'label': 'Chemical Biology, Lower Division B.S.', 'key': 25574318, 'ownerInstitutionId': 0}, {'label': 'Chemical Engineering, Lower Division B.S.', 'key': 25574321, 'ownerInstitutionId': 0}, {'label': 'Architecture, Lower Division B.A.', 'key': 25574331, 'ownerInstitutionId': 0}, {'label': 'Landscape Architecture, Lower Division B.A.', 'key': 25574335, 'ownerInstitutionId': 0}, {'label': 'Sustainable Environmental Design, Lower Division B.A.', 'key': 25574338, 'ownerInstitutionId': 0}, {'label': 'Business Administration, Lower Division B.S.', 'key': 25574344, 'ownerInstitutionId': 0}, {'label': 'Urban Studies, Lower Division B.A.', 'key': 25574347, 'ownerInstitutionId': 0}, {'label': 'African American Studies, Lower Division B.A.', 'key': 25574356, 'ownerInstitutionId': 0}, {'label': 'American Studies, Lower Division B.A.', 'key': 25574357, 'ownerInstitutionId': 0}, {'label': 'Art (Practice of), Lower Division B.A.', 'key': 25574359, 'ownerInstitutionId': 0}, {'label': 'History of Art, Lower Division B.A.', 'key': 25574364, 'ownerInstitutionId': 0}, {'label': 'Asian American and Asian Diaspora Studies, Lower Division B.A.', 'key': 25574368, 'ownerInstitutionId': 0}, {'label': 'Astrophysics, Lower Division B.A.', 'key': 25574375, 'ownerInstitutionId': 0}, {'label': 'Celtic Studies, Lower Division B.A.', 'key': 25574380, 'ownerInstitutionId': 0}, {'label': 'Chinese (East Asian Languages), Lower Division B.A.', 'key': 25574382, 'ownerInstitutionId': 0}, {'label': 'Cognitive Science, Lower Division B.A.', 'key': 25574394, 'ownerInstitutionId': 0}, {'label': 'Comparative Literature, Lower Division B.A.', 'key': 25574395, 'ownerInstitutionId': 0}, {'label': 'Dance and Performance Studies, Lower Division B.A.', 'key': 25574404, 'ownerInstitutionId': 0}, {'label': 'Computer Science, Lower Division B.A.', 'key': 25574407, 'ownerInstitutionId': 0}, {'label': 'Dutch Studies, Lower Division B.A.', 'key': 25574411, 'ownerInstitutionId': 0}, {'label': 'East Asian Religion, Thought, and Culture, Lower Division B.A.', 'key': 25574421, 'ownerInstitutionId': 0}, {'label': 'French, Lower Division B.A.', 'key': 25574422, 'ownerInstitutionId': 0}, {'label': 'Ethnic Studies, Lower Division B.A.', 'key': 25574429, 'ownerInstitutionId': 0}, {'label': \"Gender and Women's Studies, Lower Division B.A.\", 'key': 25574433, 'ownerInstitutionId': 0}, {'label': 'Geography, Lower Division B.A.', 'key': 25574439, 'ownerInstitutionId': 0}, {'label': 'German, Lower Division B.A.', 'key': 25574442, 'ownerInstitutionId': 0}, {'label': 'Greek, Lower Division B.A.', 'key': 25574448, 'ownerInstitutionId': 0}, {'label': 'Integrative Biology, Lower Division B.A.', 'key': 25574454, 'ownerInstitutionId': 0}, {'label': 'Italian Studies, Lower Division B.A.', 'key': 25574458, 'ownerInstitutionId': 0}, {'label': 'Interdisciplinary Studies Field Major, Lower Division B.A.', 'key': 25574465, 'ownerInstitutionId': 0}, {'label': 'Japanese (East Asian Languages), Lower Division B.A.', 'key': 25574469, 'ownerInstitutionId': 0}, {'label': 'Latin, Lower Division B.A.', 'key': 25574472, 'ownerInstitutionId': 0}, {'label': 'Legal Studies, Lower Division B.A.', 'key': 25574478, 'ownerInstitutionId': 0}, {'label': 'Linguistics, Lower Division B.A.', 'key': 25574483, 'ownerInstitutionId': 0}, {'label': 'Media Studies, Lower Division B.A.', 'key': 25574489, 'ownerInstitutionId': 0}, {'label': 'Molecular and Cell Biology, Lower Division B.A.', 'key': 25574493, 'ownerInstitutionId': 0}, {'label': 'Music, Lower Division B.A.', 'key': 25574494, 'ownerInstitutionId': 0}, {'label': 'Native American Studies, Lower Division B.A.', 'key': 25574498, 'ownerInstitutionId': 0}, {'label': 'Operations Research and Management Science, Lower Division B.A.', 'key': 25574508, 'ownerInstitutionId': 0}, {'label': 'Political Economy, Lower Division B.A.', 'key': 25574514, 'ownerInstitutionId': 0}, {'label': 'Rhetoric, Lower Division B.A.', 'key': 25574518, 'ownerInstitutionId': 0}, {'label': 'Public Health, Lower Division B.A.', 'key': 25574524, 'ownerInstitutionId': 0}, {'label': 'Scandinavian, Lower Division B.A.', 'key': 25574526, 'ownerInstitutionId': 0}, {'label': 'Slavic Languages and Literatures, Lower Division B.A.', 'key': 25574533, 'ownerInstitutionId': 0}, {'label': 'Social Welfare, Lower Division B.A.', 'key': 25574535, 'ownerInstitutionId': 0}, {'label': 'South and Southeast Asian Studies, Lower Division B.A.', 'key': 25574541, 'ownerInstitutionId': 0}, {'label': 'Statistics, Lower Division B.A.', 'key': 25574549, 'ownerInstitutionId': 0}, {'label': 'Spanish and Portuguese, Lower Division B.A.', 'key': 25574550, 'ownerInstitutionId': 0}, {'label': 'Theater and Performance Studies, Lower Division B.A.', 'key': 25574560, 'ownerInstitutionId': 0}, {'label': 'Global Studies, Lower Division B.A.', 'key': 25574564, 'ownerInstitutionId': 0}, {'label': 'Data Science, Lower Division B.A.', 'key': 25574568, 'ownerInstitutionId': 0}, {'label': 'Ecosystem Management & Forestry, Lower Division B.S.', 'key': 25574569, 'ownerInstitutionId': 0}, {'label': 'Atmospheric Science, Lower Division B.A.', 'key': 25574580, 'ownerInstitutionId': 0}, {'label': 'Environmental Earth Science, Lower Division B.A.', 'key': 25574584, 'ownerInstitutionId': 0}, {'label': 'Geology, Lower Division B.A.', 'key': 25574589, 'ownerInstitutionId': 0}, {'label': 'Geophysics, Lower Division B.A.', 'key': 25574590, 'ownerInstitutionId': 0}, {'label': 'Marine Science, Lower Division B.A.', 'key': 25574595, 'ownerInstitutionId': 0}, {'label': 'Planetary Science, Lower Division B.A.', 'key': 25574601, 'ownerInstitutionId': 0}, {'label': 'Film & Media, Lower Division B.A.', 'key': 25574600, 'ownerInstitutionId': 0}, {'label': 'Middle Eastern Languages and Cultures, Lower Division B.A. ', 'key': 25574607, 'ownerInstitutionId': 0}, {'label': 'Chicana/o and Latina/o Studies, Lower Division B.A.', 'key': 25574615, 'ownerInstitutionId': 0}, {'label': 'Greek and Latin, Lower Division B.A.', 'key': 25574616, 'ownerInstitutionId': 0}, {'label': 'Ancient Greek and Roman Civilizations, Lower Division B.A.', 'key': 25574633, 'ownerInstitutionId': 0}], 'allReports': []}\n"
     ]
    }
   ],
   "source": [
    "import requests\n",
    "import pandas as pd\n",
    "\n",
    "\"\"\"\n",
    "creating a dataframe of all institutions in california\n",
    "\"\"\"\n",
    "\n",
    "api_url = \"https://assist.org/api/institutions\"\n",
    "response = requests.get(api_url)\n",
    "dfAll = pd.DataFrame(columns=['id', 'name', 'code', 'isCCC'])\n",
    "response = response.json()\n",
    "for i in response:\n",
    "    entry = {'id': i['id'], 'name': i['names'][0]['name'], 'code': i['code'], 'isCCC': i['isCommunityCollege']}\n",
    "    dfAll = pd.concat([dfAll, pd.DataFrame([entry])], ignore_index = True)\n",
    "# print(df.to_string())\n",
    "\n",
    "\"\"\"\n",
    "creating a dataframe of all institutions with agreements to De Anza College\n",
    "\"\"\"\n",
    "api_url = \"https://assist.org/api/institutions/113/agreements\"\n",
    "response = requests.get(api_url)\n",
    "response = response.json()\n",
    "dfAgree = pd.DataFrame(columns=['id', 'name', 'code', 'isCCC'])\n",
    "for i in response:\n",
    "    entry = {'id': i['institutionParentId'], 'name': i['institutionName'], 'code': i['code'], 'isCCC': i['isCommunityCollege']}\n",
    "    dfAgree = pd.concat([dfAgree, pd.DataFrame([entry])], ignore_index = True)\n",
    "\n",
    "\"\"\"\n",
    "removing all rows except those which have university of california in the name\n",
    "\"\"\"\n",
    "\n",
    "print(dfAgree[dfAgree.name.str.contains(\"University of California\")])\n",
    "\n",
    "\"\"\"\n",
    "getting all keys for a school\n",
    "\"\"\"\n",
    "api_url = \"https://assist.org/api/agreements?receivingInstitutionId=79&sendingInstitutionId=113&academicYearId=72&categoryCode=major\" \n",
    "response = requests.get(api_url)\n",
    "print(response.json())"
   ]
  },
  {
   "cell_type": "code",
   "execution_count": null,
   "id": "69c2b572-b73c-4d0b-a227-cf1388eb2f2e",
   "metadata": {},
   "outputs": [],
   "source": []
  }
 ],
 "metadata": {
  "kernelspec": {
   "display_name": "Python 3 (ipykernel)",
   "language": "python",
   "name": "python3"
  },
  "language_info": {
   "codemirror_mode": {
    "name": "ipython",
    "version": 3
   },
   "file_extension": ".py",
   "mimetype": "text/x-python",
   "name": "python",
   "nbconvert_exporter": "python",
   "pygments_lexer": "ipython3",
   "version": "3.11.1"
  }
 },
 "nbformat": 4,
 "nbformat_minor": 5
}
